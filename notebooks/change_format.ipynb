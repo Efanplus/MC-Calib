{
 "cells": [
  {
   "cell_type": "code",
   "execution_count": 9,
   "metadata": {},
   "outputs": [
    {
     "name": "stdout",
     "output_type": "stream",
     "text": [
      "nb_camera:  4\n",
      "0 cam's camera_pose_matrix:  [[1. 0. 0. 0.]\n",
      " [0. 1. 0. 0.]\n",
      " [0. 0. 1. 0.]\n",
      " [0. 0. 0. 1.]]\n",
      "0 cam's intrinsic_vector:  [229.85069502005703, 229.83164706378273, 298.1905725488463, 225.90148913924767]\n",
      "0 cam's distortion_coefficients:  [[ 0.02119024 -0.0308355   0.04019453 -0.01857033]]\n",
      "0 cam's distortion_type:  1\n",
      "0 cam's img_width:  640\n",
      "0 cam's img_height:  480\n",
      "1 cam's camera_pose_matrix:  [[ 0.99986554  0.00605422 -0.01524     0.74165941]\n",
      " [-0.00614086  0.99996522 -0.00564422 -0.00530152]\n",
      " [ 0.0152053   0.00573705  0.99986793  0.00688099]\n",
      " [ 0.          0.          0.          1.        ]]\n",
      "1 cam's intrinsic_vector:  [231.16637798892714, 230.96296583754366, 300.71186424950207, 232.02638267225933]\n",
      "1 cam's distortion_coefficients:  [[ 0.01925885 -0.01882203  0.0231466  -0.01046778]]\n",
      "1 cam's distortion_type:  1\n",
      "1 cam's img_width:  640\n",
      "1 cam's img_height:  480\n",
      "2 cam's camera_pose_matrix:  [[-0.99984616 -0.01039522  0.01412751  0.00950633]\n",
      " [-0.01019388  0.9998465   0.01424986  0.00954945]\n",
      " [-0.01427347  0.01410365 -0.99979866 -0.56932379]\n",
      " [ 0.          0.          0.          1.        ]]\n",
      "2 cam's intrinsic_vector:  [232.45870161990504, 232.51333643930417, 343.46302893760065, 253.3418159016572]\n",
      "2 cam's distortion_coefficients:  [[-0.00677022  0.04892862 -0.06362772  0.02811686]]\n",
      "2 cam's distortion_type:  1\n",
      "2 cam's img_width:  640\n",
      "2 cam's img_height:  480\n",
      "3 cam's camera_pose_matrix:  [[-0.99964713  0.01721821  0.02022759  0.76242269]\n",
      " [ 0.0169668   0.99977747 -0.01253565  0.00103441]\n",
      " [-0.02043893 -0.01218803 -0.99971681 -0.5560451 ]\n",
      " [ 0.          0.          0.          1.        ]]\n",
      "3 cam's intrinsic_vector:  [233.1208023496422, 233.1835144857057, 339.6623546658192, 240.26938357896026]\n",
      "3 cam's distortion_coefficients:  [[ 0.00931561 -0.00708679  0.00576084 -0.00266785]]\n",
      "3 cam's distortion_type:  1\n",
      "3 cam's img_width:  640\n",
      "3 cam's img_height:  480\n"
     ]
    }
   ],
   "source": [
    "import numpy as np\n",
    "import cv2\n",
    "path = \"/home/yifan/MyCode/calibration/MC-Calib/data/Real_Images/Seq01_Non-overlapping/calibrated_cameras_data.yml\"\n",
    "# 读取 YAML 文件\n",
    "fs = cv2.FileStorage(path, cv2.FILE_STORAGE_READ)\n",
    "nb_camera = int(fs.getNode(\"nb_camera\").real())\n",
    "print(\"nb_camera: \", nb_camera)\n",
    "camera_data = {}\n",
    "for i in range(nb_camera):\n",
    "    camera_data[i] = {}\n",
    "    data = fs.getNode(\"camera_\" + str(i))\n",
    "    intrinsic_matrix = data.getNode(\"camera_matrix\").mat()\n",
    "    intrinsic_vector = [intrinsic_matrix[0, 0], intrinsic_matrix[1, 1], intrinsic_matrix[0, 2], intrinsic_matrix[1, 2]]\n",
    "    distortion_coefficients = data.getNode(\"distortion_vector\").mat()\n",
    "    distortion_type = int(data.getNode(\"distortion_type\").real())\n",
    "    img_width = int(data.getNode(\"img_width\").real())\n",
    "    img_height = int(data.getNode(\"img_height\").real())\n",
    "    camera_pose_matrix = data.getNode(\"camera_pose_matrix\").mat()\n",
    "    camera_data[i][\"intrinsic_vector\"] = intrinsic_vector\n",
    "    camera_data[i][\"distortion_coefficients\"] = distortion_coefficients\n",
    "    camera_data[i][\"distortion_type\"] = distortion_type\n",
    "    camera_data[i][\"img_width\"] = img_width\n",
    "    camera_data[i][\"img_height\"] = img_height\n",
    "    camera_data[i][\"camera_pose_matrix\"] = camera_pose_matrix\n",
    "    print(\"{} cam's camera_pose_matrix: \".format(i), camera_pose_matrix)\n",
    "    print(\"{} cam's intrinsic_vector: \".format(i), intrinsic_vector)\n",
    "    print(\"{} cam's distortion_coefficients: \".format(i), distortion_coefficients)\n",
    "    print(\"{} cam's distortion_type: \".format(i), distortion_type)\n",
    "    print(\"{} cam's img_width: \".format(i), img_width)\n",
    "    print(\"{} cam's img_height: \".format(i), img_height)"
   ]
  },
  {
   "cell_type": "code",
   "execution_count": 13,
   "metadata": {},
   "outputs": [
    {
     "name": "stdout",
     "output_type": "stream",
     "text": [
      "cam1\n",
      "cam2\n",
      "cam3\n"
     ]
    }
   ],
   "source": [
    "import yaml\n",
    "import numpy as np\n",
    "# 将数据写入 YAML 文件，格式类似上述格式（kalibr）\n",
    "overlaps_map = {0:1, 1:0, 2:3, 3:2}\n",
    "cam_kalibr_data = {}\n",
    "cam_kalibr_data[\"cam0\"] = {}\n",
    "cam_kalibr_data[\"cam0\"][\"cam_overlaps\"] = [overlaps_map[0]]\n",
    "cam_kalibr_data[\"cam0\"][\"camera_model\"] = \"pinhole\"\n",
    "cam_kalibr_data[\"cam0\"][\"distortion_coeffs\"] = list(camera_data[0][\"distortion_coefficients\"].tolist())\n",
    "cam_kalibr_data[\"cam0\"][\"distortion_model\"] = \"radtan\"\n",
    "cam_kalibr_data[\"cam0\"][\"intrinsics\"] = np.array(camera_data[0][\"intrinsic_vector\"]).tolist()\n",
    "cam_kalibr_data[\"cam0\"][\"resolution\"] = [camera_data[0][\"img_width\"], camera_data[0][\"img_height\"]]\n",
    "cam_kalibr_data[\"cam0\"][\"rostopic\"] = \"/cam0/image_raw\"\n",
    "for i in range(1, nb_camera):\n",
    "    cam_str = \"cam\" + str(i)\n",
    "    print(cam_str)\n",
    "    cam_kalibr_data[cam_str] = {}\n",
    "    cam_kalibr_data[cam_str][\"T_cn_cnm1\"] = np.dot(np.linalg.inv(camera_data[i][\"camera_pose_matrix\"]), camera_data[i-1][\"camera_pose_matrix\"]).tolist()\n",
    "    cam_kalibr_data[cam_str][\"cam_overlaps\"] = [overlaps_map[i]]\n",
    "    cam_kalibr_data[cam_str][\"camera_model\"] = \"pinhole\"\n",
    "    cam_kalibr_data[cam_str][\"distortion_coeffs\"] = camera_data[i][\"distortion_coefficients\"].tolist()\n",
    "    cam_kalibr_data[cam_str][\"distortion_model\"] = \"radtan\"\n",
    "    cam_kalibr_data[cam_str][\"intrinsics\"] = np.array(camera_data[i][\"intrinsic_vector\"]).tolist()\n",
    "    cam_kalibr_data[cam_str][\"resolution\"] = [camera_data[i][\"img_width\"], camera_data[i][\"img_height\"]]\n",
    "    cam_kalibr_data[cam_str][\"rostopic\"] = \"/cam\" + str(i) + \"/image_raw\"\n",
    "\n",
    "class MyDumper(yaml.Dumper):\n",
    "    def increase_indent(self, flow=False, indentless=False):\n",
    "        return super(MyDumper, self).increase_indent(flow, False)\n",
    "\n",
    "    def represent_dict(self, data):\n",
    "        value = []\n",
    "        node = yaml.nodes.MappingNode(tag='tag:yaml.org,2002:map', value=value)\n",
    "        if self.alias_key is not None:\n",
    "            self.represented_objects[self.alias_key] = node\n",
    "        best_style = True\n",
    "        for item_key, item_value in data.items():\n",
    "            node_key = self.represent_data(item_key)\n",
    "            node_value = self.represent_data(item_value)\n",
    "            if not isinstance(node_key, yaml.nodes.ScalarNode) or not isinstance(node_value, yaml.nodes.ScalarNode):\n",
    "                best_style = False\n",
    "            value.append((node_key, node_value))\n",
    "        if self.default_flow_style is None:\n",
    "            node.flow_style = best_style\n",
    "        else:\n",
    "            node.flow_style = self.default_flow_style\n",
    "        return node\n",
    "\n",
    "file_path = \"/mnt/dataset/calibration/Mc-test/overlapping/images/2024-06-18-17-37-56_1844c160c6ee1c84/cam_imu-camchain.yaml\"\n",
    "\n",
    "with open(file_path, 'w') as f:\n",
    "    yaml.dump(cam_kalibr_data, f, Dumper=MyDumper, default_flow_style=None)\n",
    "\n",
    "    "
   ]
  },
  {
   "cell_type": "code",
   "execution_count": 15,
   "metadata": {},
   "outputs": [],
   "source": [
    "import numpy as np\n",
    "import yaml\n",
    "path = \"/mnt/dataset/calibration/cam_imu-camchain-imucam.yaml\"\n",
    "# 读取 YAML 文件\n",
    "data = yaml.safe_load(open(path, 'r'))"
   ]
  },
  {
   "cell_type": "code",
   "execution_count": 18,
   "metadata": {},
   "outputs": [
    {
     "data": {
      "text/plain": [
       "array([[ 0.11550656, -0.9923333 , -0.04396435,  0.06434952],\n",
       "       [ 0.99300129,  0.11645541, -0.01966172,  0.02807321],\n",
       "       [ 0.02463086, -0.0413856 ,  0.9988396 ,  0.16779004],\n",
       "       [ 0.        ,  0.        ,  0.        ,  1.        ]])"
      ]
     },
     "execution_count": 18,
     "metadata": {},
     "output_type": "execute_result"
    }
   ],
   "source": [
    "T_cam_imu_0 = np.array(data['cam0']['T_cam_imu'])\n",
    "T_cam_imu_0"
   ]
  },
  {
   "cell_type": "code",
   "execution_count": 19,
   "metadata": {},
   "outputs": [
    {
     "data": {
      "text/plain": [
       "array([[ 0.08727932, -0.99617209, -0.00484627, -0.00979779],\n",
       "       [ 0.99617448,  0.0872986 , -0.00391999,  0.03234276],\n",
       "       [ 0.00432806, -0.0044856 ,  0.99998057,  0.16333762],\n",
       "       [ 0.        ,  0.        ,  0.        ,  1.        ]])"
      ]
     },
     "execution_count": 19,
     "metadata": {},
     "output_type": "execute_result"
    }
   ],
   "source": [
    "T_cam_imu_1 = np.array(data['cam1']['T_cam_imu'])\n",
    "T_cam_imu_1"
   ]
  },
  {
   "cell_type": "code",
   "execution_count": 21,
   "metadata": {},
   "outputs": [
    {
     "data": {
      "text/plain": [
       "array([[ 9.98829131e-01, -2.92458622e-02,  3.85362963e-02,\n",
       "        -7.97169494e-02],\n",
       "       [ 2.86077195e-02,  9.99446005e-01,  1.70082892e-02,\n",
       "        -4.09615686e-04],\n",
       "       [-3.90123695e-02, -1.58859392e-02,  9.99112442e-01,\n",
       "        -1.34709791e-03],\n",
       "       [ 0.00000000e+00,  0.00000000e+00,  0.00000000e+00,\n",
       "         1.00000000e+00]])"
      ]
     },
     "execution_count": 21,
     "metadata": {},
     "output_type": "execute_result"
    }
   ],
   "source": [
    "np.dot( T_cam_imu_1, np.linalg.inv(T_cam_imu_0))"
   ]
  }
 ],
 "metadata": {
  "kernelspec": {
   "display_name": "Python 3",
   "language": "python",
   "name": "python3"
  },
  "language_info": {
   "codemirror_mode": {
    "name": "ipython",
    "version": 3
   },
   "file_extension": ".py",
   "mimetype": "text/x-python",
   "name": "python",
   "nbconvert_exporter": "python",
   "pygments_lexer": "ipython3",
   "version": "3.9.19"
  }
 },
 "nbformat": 4,
 "nbformat_minor": 2
}
